{
 "cells": [
  {
   "cell_type": "code",
   "execution_count": 1,
   "metadata": {
    "execution": {
     "iopub.execute_input": "2024-05-28T19:56:16.962849Z",
     "iopub.status.busy": "2024-05-28T19:56:16.962206Z",
     "iopub.status.idle": "2024-05-28T19:56:20.635152Z",
     "shell.execute_reply": "2024-05-28T19:56:20.634345Z",
     "shell.execute_reply.started": "2024-05-28T19:56:16.962802Z"
    }
   },
   "outputs": [],
   "source": [
    "import torch\n",
    "import torch.nn as nn\n",
    "import torch.optim as optim\n",
    "from torch.utils.data import Dataset, DataLoader\n",
    "from torch.nn.utils.rnn import pad_sequence\n",
    "import numpy as np"
   ]
  },
  {
   "cell_type": "code",
   "execution_count": 4,
   "metadata": {
    "execution": {
     "iopub.execute_input": "2024-05-28T19:56:20.636970Z",
     "iopub.status.busy": "2024-05-28T19:56:20.636564Z",
     "iopub.status.idle": "2024-05-28T19:56:21.582720Z",
     "shell.execute_reply": "2024-05-28T19:56:21.581791Z",
     "shell.execute_reply.started": "2024-05-28T19:56:20.636944Z"
    }
   },
   "outputs": [],
   "source": [
    "def load_pairs(file_path):\n",
    "    pairs = []\n",
    "    with open(file_path, 'r', encoding='utf-8') as f:\n",
    "        for line in f:\n",
    "            pair = line.strip().split('\\t')\n",
    "            pairs.append(pair)\n",
    "    return pairs\n",
    "\n",
    "pairs = load_pairs('pairs.txt')\n"
   ]
  },
  {
   "cell_type": "code",
   "execution_count": 5,
   "metadata": {
    "execution": {
     "iopub.execute_input": "2024-05-28T19:57:07.237559Z",
     "iopub.status.busy": "2024-05-28T19:57:07.236592Z",
     "iopub.status.idle": "2024-05-28T19:57:07.244051Z",
     "shell.execute_reply": "2024-05-28T19:57:07.243121Z",
     "shell.execute_reply.started": "2024-05-28T19:57:07.237521Z"
    }
   },
   "outputs": [
    {
     "data": {
      "text/plain": [
       "[['Back off.', 'Посторонитесь.'],\n",
       " ['Be a man.', 'Будь мужчиной!'],\n",
       " ['Be brave.', 'Будь храбр.'],\n",
       " ['Be brief.', 'Будь краток.'],\n",
       " ['Be quiet.', 'Тихо.']]"
      ]
     },
     "execution_count": 5,
     "metadata": {},
     "output_type": "execute_result"
    }
   ],
   "source": [
    "pairs[200:205]"
   ]
  },
  {
   "cell_type": "code",
   "execution_count": 7,
   "metadata": {},
   "outputs": [],
   "source": [
    "# Определение специальных токенов\n",
    "PAD_TOKEN = \"<PAD>\"\n",
    "EOS_TOKEN = \"<EOS>\"\n",
    "SOS_TOKEN = \"<SOS>\"\n",
    "UNK_TOKEN = \"<UNK>\"\n",
    "\n",
    "# Функция токенизации предложения: приводит все символы к нижнему регистру и разбивает предложение на слова\n",
    "def tokenize(sentence):\n",
    "    return sentence.lower().split()\n",
    "\n",
    "# функция построения словаря ключ-значение для любого языка\n",
    "def build_vocab(pairs):\n",
    "    russian_tokens = set()\n",
    "    english_tokens = set()\n",
    "    for rus, eng in pairs:\n",
    "        russian_tokens.update(tokenize(rus))\n",
    "        english_tokens.update(tokenize(eng))\n",
    "    return russian_tokens, english_tokens\n",
    "\n",
    "def create_mappings(tokens_language):\n",
    "    vocab = [PAD_TOKEN, SOS_TOKEN, EOS_TOKEN, UNK_TOKEN] + sorted(tokens_language)\n",
    "    word2idx = {word: i for i, word in enumerate(vocab)}\n",
    "    idx2word = {i: word for word, i in word2idx.items()}\n",
    "    return word2idx, idx2word\n",
    "\n",
    "# Создание словарей для английских и русских предложений на основе пар\n",
    "english_vocab, russian_vocab = build_vocab(pairs)\n",
    "\n",
    "# Создание отображений с добавлением специальных токенов\n",
    "eng_word2int, eng_int2word = create_mappings(english_vocab)\n",
    "rus_word2int, rus_int2word = create_mappings(russian_vocab)\n",
    "    "
   ]
  },
  {
   "cell_type": "code",
   "execution_count": 8,
   "metadata": {},
   "outputs": [
    {
     "name": "stdout",
     "output_type": "stream",
     "text": [
      "English vocabulary size: 34195\n",
      "Russian vocabulary size: 86949\n",
      "English text encoded: [33425  2292 34085]\n",
      "Russian text encoded: [25873 77975]\n",
      "Decoded English: who are you\n",
      "Decoded Russian: как ты\n"
     ]
    }
   ],
   "source": [
    "# Печать размеров словарей (с учетом 4 специальных токенов)\n",
    "print('English vocabulary size:', len(english_vocab) + 4)\n",
    "print('Russian vocabulary size:', len(russian_vocab) + 4)\n",
    "\n",
    "# Пример использования: кодирование английского и русского предложения\n",
    "eng_example = \"Who are you\"\n",
    "rus_example = \"как ты\"\n",
    "\n",
    "# Кодирование с учетом UNK_TOKEN для неизвестных слов\n",
    "eng_encoded = np.array([eng_word2int.get(word, eng_word2int[UNK_TOKEN])\n",
    "                        for word in tokenize(eng_example)], dtype=np.int32)\n",
    "\n",
    "rus_encoded = np.array([rus_word2int.get(word, rus_word2int[UNK_TOKEN])\n",
    "                        for word in tokenize(rus_example)], dtype=np.int32)\n",
    "\n",
    "print('English text encoded:', eng_encoded)\n",
    "print('Russian text encoded:', rus_encoded)\n",
    "\n",
    "# Декодирование: восстановление текста из кодов\n",
    "decoded_eng = ' '.join([eng_int2word[i] for i in eng_encoded])\n",
    "decoded_rus = ' '.join([rus_int2word[i] for i in rus_encoded])\n",
    "\n",
    "print('Decoded English:', decoded_eng)\n",
    "print('Decoded Russian:', decoded_rus)"
   ]
  },
  {
   "cell_type": "code",
   "execution_count": 9,
   "metadata": {},
   "outputs": [],
   "source": [
    "class TranslationDataset(Dataset):\n",
    "    def __init__(self, pairs, eng_word2int, rus_word2int):\n",
    "        self.pairs, self.eng_word2int, self.rus_word2int = pairs, eng_word2int, rus_word2int\n",
    "        \n",
    "    def __len__(self):\n",
    "        return len(pairs)\n",
    "    \n",
    "    def __getitem__(self, idx):\n",
    "        eng, rus = self.pairs[idx]\n",
    "        \n",
    "        eng_tensor = torch.tensor([self.eng_word2int.get(word, self.eng_word2int[UNK_TOKEN])\n",
    "                                   for word in tokenize(eng)]\n",
    "                                 + [self.eng_word2int[EOS_TOKEN]], dtype=torch.long)\n",
    "        \n",
    "        rus_tensor = torch.tensor([self.rus_word2int.get(word, self.rus_word2int[UNK_TOKEN])\n",
    "                                   for word in tokenize(rus)]\n",
    "                                  + [self.rus_word2int[EOS_TOKEN]], dtype=torch.long)\n",
    "        \n",
    "        return eng_tensor, rus_tensor"
   ]
  },
  {
   "cell_type": "code",
   "execution_count": 11,
   "metadata": {},
   "outputs": [
    {
     "name": "stdout",
     "output_type": "stream",
     "text": [
      "Translation samples:  323711\n",
      "Translation batches:  5057\n"
     ]
    }
   ],
   "source": [
    "# Функция для объединения батчей: паддинг (дополнение) предложений до одной длины в батче\n",
    "def collate_fn(batch):\n",
    "    eng_batch, rus_batch = zip(*batch)\n",
    "    eng_batch_padded = pad_sequence(eng_batch, batch_first=True,\n",
    "                                    padding_value=eng_word2int[PAD_TOKEN])\n",
    "    rus_batch_padded = pad_sequence(rus_batch, batch_first=True,\n",
    "                                    padding_value=rus_word2int[PAD_TOKEN])\n",
    "    \n",
    "    return eng_batch_padded, rus_batch_padded\n",
    "\n",
    "\n",
    "\n",
    "# Создание экземпляра датасета и загрузчика данных\n",
    "translation_dataset = TranslationDataset(pairs, eng_word2int, rus_word2int)\n",
    "batch_size = 64\n",
    "translation_dataloader = DataLoader(translation_dataset, batch_size=batch_size,\n",
    "                                    shuffle=True, drop_last=True, collate_fn=collate_fn)\n",
    "\n",
    "# Печать информации о количестве образцов и батчей в датасете\n",
    "print(\"Translation samples: \", len(translation_dataset))\n",
    "print(\"Translation batches: \", len(translation_dataloader))"
   ]
  },
  {
   "cell_type": "code",
   "execution_count": 12,
   "metadata": {},
   "outputs": [
    {
     "ename": "NameError",
     "evalue": "name 'eng_vocab_size' is not defined",
     "output_type": "error",
     "traceback": [
      "\u001b[1;31m---------------------------------------------------------------------------\u001b[0m",
      "\u001b[1;31mNameError\u001b[0m                                 Traceback (most recent call last)",
      "Cell \u001b[1;32mIn[12], line 29\u001b[0m\n\u001b[0;32m     23\u001b[0m         out, hidden \u001b[38;5;241m=\u001b[39m \u001b[38;5;28mself\u001b[39m\u001b[38;5;241m.\u001b[39mrnn(embed)\n\u001b[0;32m     24\u001b[0m         \u001b[38;5;28;01mreturn\u001b[39;00m out, hidden\n\u001b[1;32m---> 29\u001b[0m model \u001b[38;5;241m=\u001b[39m Encoder(embedding_size\u001b[38;5;241m=\u001b[39m\u001b[38;5;241m512\u001b[39m, hidden_size\u001b[38;5;241m=\u001b[39m\u001b[38;5;241m128\u001b[39m, len_vocab\u001b[38;5;241m=\u001b[39meng_vocab_size)\n\u001b[0;32m     30\u001b[0m out, hidden_encoder \u001b[38;5;241m=\u001b[39m model(test)\n\u001b[0;32m     31\u001b[0m \u001b[38;5;28mprint\u001b[39m(out\u001b[38;5;241m.\u001b[39mshape)\n",
      "\u001b[1;31mNameError\u001b[0m: name 'eng_vocab_size' is not defined"
     ]
    }
   ],
   "source": [
    "class Encoder(nn.Module):\n",
    "    def __init__(self, embedding_size, hidden_size, len_vocab, layers=1):\n",
    "        super(Encoder, self).__init__()\n",
    "        self.embedding_size, self.hidden_size, self.len_vocab = embedding_size,\n",
    "                                                                hidden_size,\n",
    "                                                                len_vocab\n",
    "        self.embed = nn.Embedding(num_embeddings=len_vocab,\n",
    "                                  embedding_dim=embedding_size,\n",
    "                                  padding_idx=0)\n",
    "        \n",
    "        self.rnn = nn.RNN(input_size=embedding_size,\n",
    "                          hidden_size=hidden_size,\n",
    "                          num_layers=1,\n",
    "                          batch_first=True)\n",
    "        # (N, seq_len)\n",
    "    def forward(self, x):\n",
    "        #x: (64, 100)\n",
    "        #x: (64, 100, 512)\n",
    "        embed = self.embed(x)\n",
    "        # out: (64, 100, 128)\n",
    "        # hidden: (1, 64, 128)\n",
    "        out, hidden = self.rnn(embed)\n",
    "        return out, hidden"
   ]
  },
  {
   "cell_type": "code",
   "execution_count": 5,
   "metadata": {},
   "outputs": [
    {
     "data": {
      "text/plain": [
       "tensor([1, 2, 3, 4])"
      ]
     },
     "execution_count": 5,
     "metadata": {},
     "output_type": "execute_result"
    }
   ],
   "source": [
    "a = torch.tensor([1, 2, 3, 4])\n",
    "a"
   ]
  },
  {
   "cell_type": "code",
   "execution_count": 6,
   "metadata": {},
   "outputs": [
    {
     "data": {
      "text/plain": [
       "tensor([4, 3, 2, 1])"
      ]
     },
     "execution_count": 6,
     "metadata": {},
     "output_type": "execute_result"
    }
   ],
   "source": [
    "torch.flip(a, [0])"
   ]
  },
  {
   "cell_type": "code",
   "execution_count": 53,
   "metadata": {},
   "outputs": [],
   "source": [
    "class RNN(nn.Module):\n",
    "    def __init__(self, input_size, hidden_size):\n",
    "        super().__init__()\n",
    "        self.input_size = input_size\n",
    "        self.hidden_size = hidden_size\n",
    "        \n",
    "        self.input_linear_layer = nn.Linear(in_features=input_size,\n",
    "                                            out_features=hidden_size,\n",
    "                                            bias=True)\n",
    "        \n",
    "        self.input_hidden_layer = nn.Linear(in_features=hidden_size,\n",
    "                                            out_features=hidden_size,\n",
    "                                            bias=True)\n",
    "        \n",
    "        self.activation = nn.Tanh()\n",
    "        \n",
    "\n",
    "    def forward(self, x: torch.Tensor, state: torch.Tensor | None = None):\n",
    "        if state is None:\n",
    "            state = torch.zeros((x.shape[0], self.hidden_size))\n",
    "        states = [state]\n",
    "        \n",
    "        for i in range(x.shape[1]):\n",
    "            states.append(self.activation(self.input_linear_layer(x[:, i, :]) \n",
    "                        + self.input_hidden_layer(states[-1])\n",
    "                        ))\n",
    "            \n",
    "        return torch.stack(states[1:]).permute((1, 0, 2)), states[-1].unsqueeze(0)\n",
    "\n",
    "\n",
    "my_enn = RNN(10, 32)\n",
    "\n"
   ]
  },
  {
   "cell_type": "code",
   "execution_count": 61,
   "metadata": {},
   "outputs": [],
   "source": [
    "class Decoder(nn.Module):\n",
    "    def __init__(self, embedding_size, hidden_size, len_vocab, layers=1):\n",
    "        super(Decoder, self).__init__()\n",
    "        self.embedding_size, self.hidden_size, self.len_vocab = embedding_size,\n",
    "                                                                hidden_size,\n",
    "                                                                len_vocab\n",
    "        self.embed = nn.Embedding(num_embeddings=len_vocab,\n",
    "                                  embedding_dim=embedding_size,\n",
    "                                  padding_idx=0)\n",
    "        \n",
    "        self.rnn = nn.RNN(input_size=embedding_size,\n",
    "                          hidden_size=hidden_size,\n",
    "                          num_layers=1,\n",
    "                          batch_first=True)\n",
    "        \n",
    "        self.fc = nn.Linear(in_features=hidden_size,\n",
    "                            out_features=len_vocab,\n",
    "                            bias=True)\n",
    "\n",
    "\n",
    "    def forward(self, x, hidden):\n",
    "        # x: [N, 1]\n",
    "        embed = self.embed(x)\n",
    "        # embed: (N, 1, embedd_size)\n",
    "        \n",
    "        out, hidden = self.rnn(embed)\n",
    "        # out: (N, 1, hidden_size)\n",
    "        # hidden: (1, N, hidden_size)\n",
    "        out = self.fc(out)\n",
    "        # out: (N, 1, vocab_size)\n",
    "        return out, hidden\n",
    "    \n"
   ]
  },
  {
   "cell_type": "markdown",
   "metadata": {},
   "source": [
    "Почему использовать torch.flip?\n",
    "\n",
    "В некоторых реализациях двунаправленных RNN вместо явной обработки последовательности в обратном порядке используется предварительный разворот последовательности. Это упрощает архитектуру и позволяет использовать общие механизмы обработки для обоих направлений."
   ]
  },
  {
   "cell_type": "markdown",
   "metadata": {},
   "source": [
    "При генерации перевода (декодировании) модели может быть полезно, если важная информация, находящаяся в конце исходной последовательности, становится доступной на первых шагах декодирования."
   ]
  },
  {
   "cell_type": "markdown",
   "metadata": {},
   "source": [
    "Как уже упоминалось, оригинальная архитектура Seq2Seq с развёрнутой входной последовательностью показала улучшенные результаты при переводе сложных предложений."
   ]
  },
  {
   "cell_type": "markdown",
   "metadata": {},
   "source": [
    " Здесь x — это входной тензор с размерностями (batch_size, sequence_length). Операция torch.flip(x, [1]) переворачивает последовательность вдоль измерения 1 (длина последовательности). То есть, каждая последовательность в пакете данных будет обращена задом наперёд."
   ]
  },
  {
   "cell_type": "code",
   "execution_count": 64,
   "metadata": {
    "execution": {
     "iopub.execute_input": "2024-05-28T20:00:38.650662Z",
     "iopub.status.busy": "2024-05-28T20:00:38.650292Z",
     "iopub.status.idle": "2024-05-28T20:00:38.693473Z",
     "shell.execute_reply": "2024-05-28T20:00:38.692512Z",
     "shell.execute_reply.started": "2024-05-28T20:00:38.650636Z"
    }
   },
   "outputs": [
    {
     "data": {
      "text/plain": [
       "device(type='cpu')"
      ]
     },
     "execution_count": 64,
     "metadata": {},
     "output_type": "execute_result"
    }
   ],
   "source": [
    "DEVICE = torch.device(\"cuda:0\" if torch.cuda.is_available() else \"cpu\")\n",
    "DEVICE"
   ]
  },
  {
   "cell_type": "code",
   "execution_count": 65,
   "metadata": {
    "execution": {
     "iopub.execute_input": "2024-05-28T20:00:43.769700Z",
     "iopub.status.busy": "2024-05-28T20:00:43.769008Z",
     "iopub.status.idle": "2024-05-28T20:00:44.913843Z",
     "shell.execute_reply": "2024-05-28T20:00:44.913028Z",
     "shell.execute_reply.started": "2024-05-28T20:00:43.769668Z"
    }
   },
   "outputs": [],
   "source": [
    "eng_vocab_size = len(eng_word2int)\n",
    "rus_vocab_size = len(rus_word2int)\n",
    "embed_size = 256\n",
    "hidden_size = 512\n",
    "num_layers = 1\n",
    "\n",
    "encoder = Encoder(embedding_size=embed_size, hidden_size=hidden_size, len_vocab=eng_vocab_size)\n",
    "decoder = Decoder(embedding_size=embed_size, hidden_size=hidden_size, len_vocab=rus_vocab_size)"
   ]
  },
  {
   "cell_type": "code",
   "execution_count": 66,
   "metadata": {},
   "outputs": [
    {
     "data": {
      "text/plain": [
       "'пополам микроскоп. обыкновение опавший принцессу ксерокопии. зданием. христа подъём постели, объединимся курсе. аккуратный занятая могут.'"
      ]
     },
     "execution_count": 66,
     "metadata": {},
     "output_type": "execute_result"
    }
   ],
   "source": [
    "embedding_size = 512\n",
    "hidden_size = 128\n",
    "rus_len_vocab = len(rus_word2int)\n",
    "eng_len_vocab = len(eng_word2int)\n",
    "layers = 1\n",
    "\n",
    "encoder = Encoder(embedding_size, hidden_size, len_vocab, layers=1)\n",
    "decoder = Decoder(embedding_size, hidden_size, len_vocab, layers=1)\n",
    "\n",
    "device = \"cuda\" if torch.cuda.is_available() else \"cpu\"\n",
    "\n",
    "def translate(encoder: nn.Module, decoder: nn.Module, eng_word2int,\n",
    "              rus_int2word, sentence, seq_len=15):\n",
    "    \n",
    "    encoder.eval()\n",
    "    encoder.eval()\n",
    "    \n",
    "    with torch.no_grad():\n",
    "        \n",
    "        sentence_input = [eng_word2int.get(word, eng_word2int[\"<UNK>\"])\n",
    "                          for word in tokenize(sentence) + [eng_word2int[\"<EOS>\"]]]\n",
    "        \n",
    "        sentence_tensor = torch.tensor(sentence_input, dtype=torch.long, device=device)\n",
    "        sentence_tensor = sentence_tensor.view(1, -1)\n",
    "        \n",
    "        _, hidden_encoder = encoder(sentence_tensor)\n",
    "        hidden_decoder = hidden_encoder\n",
    "        \n",
    "        last_token = torch.full((1, 1), fill_value=eng_word2int[\"<SOS>\"])\n",
    "        \n",
    "        predict_words = []\n",
    "        \n",
    "        for t in range(seq_len):\n",
    "            logits, hidden_decoder = decoder(last_token, hidden_decoder)\n",
    "            \n",
    "            next_token = logits.argmax(dim=2)\n",
    "            last_token = next_token\n",
    "            \n",
    "            if next_token.item() == rus_word2int[\"<EOS>\"]:\n",
    "                break\n",
    "            \n",
    "            predict_words.append(rus_int2word[next_token.item()])\n",
    "        \n",
    "        return \" \".join(predict_words)\n",
    "        \n",
    "text = \"Hello ml\"\n",
    "translate(encoder,\n",
    "              decoder,\n",
    "              eng_word2int,\n",
    "              rus_int2word,\n",
    "              text,\n",
    "              seq_len=15)\n",
    "\n"
   ]
  },
  {
   "cell_type": "markdown",
   "metadata": {},
   "source": [
    "```\n",
    "Для обучения нам нужны:\n",
    "- Оптимизатор\n",
    "- Функция потерь\n",
    "- Сама модель\n",
    "- Данные / батчи\n",
    "\n",
    "Цикл обучения:\n",
    "\n",
    "   • Для каждой эпохи (полного прохода по обучающим данным):\n",
    "\n",
    "     1. Установка модели в режим обучения. model.train()\n",
    "\n",
    "     2. Инициализация переменной для отслеживания потерь. epoch_loss = 0\n",
    "\n",
    "     3. Для каждого пакета данных: (для каждого батча)\n",
    "\n",
    "        • Обнуление градиентов оптимизатора. zero_grad()\n",
    "\n",
    "        • Прямой проход: получение предсказаний модели на основе входных данных. model(data)\n",
    "\n",
    "        • Вычисление функции потерь, сравнивая предсказания с истинными значениями. crossentropyloss\n",
    "\n",
    "        • Обратный проход: вычисление градиентов. backward()\n",
    "\n",
    "        • Обновление параметров модели с помощью оптимизатора. optimizer.step()\n",
    "\n",
    "        • Накопление значений потерь для мониторинга.\n",
    "\n",
    "   • Вывод средней потери за эпоху для отслеживания прогресса.\n",
    "```"
   ]
  },
  {
   "cell_type": "code",
   "execution_count": 67,
   "metadata": {},
   "outputs": [
    {
     "data": {
      "text/plain": [
       "0"
      ]
     },
     "execution_count": 67,
     "metadata": {},
     "output_type": "execute_result"
    }
   ],
   "source": [
    "eng_word2int[\"<PAD>\"]"
   ]
  },
  {
   "cell_type": "code",
   "execution_count": 74,
   "metadata": {},
   "outputs": [
    {
     "name": "stderr",
     "output_type": "stream",
     "text": [
      "Epoch 0/2:   0%|                                                                    | 1/5057 [00:02<2:51:07,  2.03s/it]"
     ]
    },
    {
     "name": "stdout",
     "output_type": "stream",
     "text": [
      "Epoch 0, Batch 0, Loss: 11.39383316040039\n"
     ]
    },
    {
     "name": "stderr",
     "output_type": "stream",
     "text": [
      "Epoch 0/2:   0%|▏                                                                  | 17/5057 [00:37<3:06:25,  2.22s/it]\n"
     ]
    },
    {
     "ename": "KeyboardInterrupt",
     "evalue": "",
     "output_type": "error",
     "traceback": [
      "\u001b[1;31m---------------------------------------------------------------------------\u001b[0m",
      "\u001b[1;31mKeyboardInterrupt\u001b[0m                         Traceback (most recent call last)",
      "Cell \u001b[1;32mIn[74], line 70\u001b[0m\n\u001b[0;32m     66\u001b[0m             \u001b[38;5;28;01mif\u001b[39;00m i \u001b[38;5;241m%\u001b[39m \u001b[38;5;241m100\u001b[39m \u001b[38;5;241m==\u001b[39m \u001b[38;5;241m0\u001b[39m:\n\u001b[0;32m     67\u001b[0m                 \u001b[38;5;28mprint\u001b[39m(\u001b[38;5;124mf\u001b[39m\u001b[38;5;124m\"\u001b[39m\u001b[38;5;124mEpoch \u001b[39m\u001b[38;5;132;01m{\u001b[39;00mepoch\u001b[38;5;132;01m}\u001b[39;00m\u001b[38;5;124m, Batch \u001b[39m\u001b[38;5;132;01m{\u001b[39;00mi\u001b[38;5;132;01m}\u001b[39;00m\u001b[38;5;124m, Loss: \u001b[39m\u001b[38;5;132;01m{\u001b[39;00mloss\u001b[38;5;241m.\u001b[39mitem()\u001b[38;5;250m \u001b[39m\u001b[38;5;241m/\u001b[39m\u001b[38;5;250m \u001b[39mtarget_length\u001b[38;5;132;01m}\u001b[39;00m\u001b[38;5;124m\"\u001b[39m)\n\u001b[1;32m---> 70\u001b[0m train_loop(encoder,\n\u001b[0;32m     71\u001b[0m               decoder, \n\u001b[0;32m     72\u001b[0m               optimizer_encoder,\n\u001b[0;32m     73\u001b[0m               optimizer_decoder,\n\u001b[0;32m     74\u001b[0m               criterion,\n\u001b[0;32m     75\u001b[0m               epochs,\n\u001b[0;32m     76\u001b[0m               translation_dataloader,\n\u001b[0;32m     77\u001b[0m               eng_word2int,\n\u001b[0;32m     78\u001b[0m               rus_int2word)\n",
      "Cell \u001b[1;32mIn[74], line 51\u001b[0m, in \u001b[0;36mtrain_loop\u001b[1;34m(encoder, decoder, optimizer_encoder, optimizer_decoder, criterion, epochs, train_dataloader, eng_word2int, rus_int2word)\u001b[0m\n\u001b[0;32m     47\u001b[0m decoder_input \u001b[38;5;241m=\u001b[39m torch\u001b[38;5;241m.\u001b[39mfull((batch_size, \u001b[38;5;241m1\u001b[39m), fill_value\u001b[38;5;241m=\u001b[39meng_word2int[\u001b[38;5;124m\"\u001b[39m\u001b[38;5;124m<SOS>\u001b[39m\u001b[38;5;124m\"\u001b[39m], dtype\u001b[38;5;241m=\u001b[39mtorch\u001b[38;5;241m.\u001b[39mlong)\n\u001b[0;32m     49\u001b[0m \u001b[38;5;28;01mfor\u001b[39;00m t \u001b[38;5;129;01min\u001b[39;00m \u001b[38;5;28mrange\u001b[39m(target_length):\n\u001b[1;32m---> 51\u001b[0m     logits, hidden_decoder \u001b[38;5;241m=\u001b[39m decoder(decoder_input, hidden_decoder)\n\u001b[0;32m     54\u001b[0m     logits \u001b[38;5;241m=\u001b[39m logits\u001b[38;5;241m.\u001b[39mview(\u001b[38;5;241m-\u001b[39m\u001b[38;5;241m1\u001b[39m, \u001b[38;5;28mlen\u001b[39m(rus_int2word))\n\u001b[0;32m     56\u001b[0m     loss \u001b[38;5;241m+\u001b[39m\u001b[38;5;241m=\u001b[39m criterion(logits, target_tensor[:, t])\n",
      "File \u001b[1;32m~\\anaconda3\\Lib\\site-packages\\torch\\nn\\modules\\module.py:1511\u001b[0m, in \u001b[0;36mModule._wrapped_call_impl\u001b[1;34m(self, *args, **kwargs)\u001b[0m\n\u001b[0;32m   1509\u001b[0m     \u001b[38;5;28;01mreturn\u001b[39;00m \u001b[38;5;28mself\u001b[39m\u001b[38;5;241m.\u001b[39m_compiled_call_impl(\u001b[38;5;241m*\u001b[39margs, \u001b[38;5;241m*\u001b[39m\u001b[38;5;241m*\u001b[39mkwargs)  \u001b[38;5;66;03m# type: ignore[misc]\u001b[39;00m\n\u001b[0;32m   1510\u001b[0m \u001b[38;5;28;01melse\u001b[39;00m:\n\u001b[1;32m-> 1511\u001b[0m     \u001b[38;5;28;01mreturn\u001b[39;00m \u001b[38;5;28mself\u001b[39m\u001b[38;5;241m.\u001b[39m_call_impl(\u001b[38;5;241m*\u001b[39margs, \u001b[38;5;241m*\u001b[39m\u001b[38;5;241m*\u001b[39mkwargs)\n",
      "File \u001b[1;32m~\\anaconda3\\Lib\\site-packages\\torch\\nn\\modules\\module.py:1520\u001b[0m, in \u001b[0;36mModule._call_impl\u001b[1;34m(self, *args, **kwargs)\u001b[0m\n\u001b[0;32m   1515\u001b[0m \u001b[38;5;66;03m# If we don't have any hooks, we want to skip the rest of the logic in\u001b[39;00m\n\u001b[0;32m   1516\u001b[0m \u001b[38;5;66;03m# this function, and just call forward.\u001b[39;00m\n\u001b[0;32m   1517\u001b[0m \u001b[38;5;28;01mif\u001b[39;00m \u001b[38;5;129;01mnot\u001b[39;00m (\u001b[38;5;28mself\u001b[39m\u001b[38;5;241m.\u001b[39m_backward_hooks \u001b[38;5;129;01mor\u001b[39;00m \u001b[38;5;28mself\u001b[39m\u001b[38;5;241m.\u001b[39m_backward_pre_hooks \u001b[38;5;129;01mor\u001b[39;00m \u001b[38;5;28mself\u001b[39m\u001b[38;5;241m.\u001b[39m_forward_hooks \u001b[38;5;129;01mor\u001b[39;00m \u001b[38;5;28mself\u001b[39m\u001b[38;5;241m.\u001b[39m_forward_pre_hooks\n\u001b[0;32m   1518\u001b[0m         \u001b[38;5;129;01mor\u001b[39;00m _global_backward_pre_hooks \u001b[38;5;129;01mor\u001b[39;00m _global_backward_hooks\n\u001b[0;32m   1519\u001b[0m         \u001b[38;5;129;01mor\u001b[39;00m _global_forward_hooks \u001b[38;5;129;01mor\u001b[39;00m _global_forward_pre_hooks):\n\u001b[1;32m-> 1520\u001b[0m     \u001b[38;5;28;01mreturn\u001b[39;00m forward_call(\u001b[38;5;241m*\u001b[39margs, \u001b[38;5;241m*\u001b[39m\u001b[38;5;241m*\u001b[39mkwargs)\n\u001b[0;32m   1522\u001b[0m \u001b[38;5;28;01mtry\u001b[39;00m:\n\u001b[0;32m   1523\u001b[0m     result \u001b[38;5;241m=\u001b[39m \u001b[38;5;28;01mNone\u001b[39;00m\n",
      "Cell \u001b[1;32mIn[61], line 27\u001b[0m, in \u001b[0;36mDecoder.forward\u001b[1;34m(self, x, hidden)\u001b[0m\n\u001b[0;32m     24\u001b[0m out, hidden \u001b[38;5;241m=\u001b[39m \u001b[38;5;28mself\u001b[39m\u001b[38;5;241m.\u001b[39mrnn(embed)\n\u001b[0;32m     25\u001b[0m \u001b[38;5;66;03m# out: (N, 1, hidden_size)\u001b[39;00m\n\u001b[0;32m     26\u001b[0m \u001b[38;5;66;03m# hidden: (1, N, hidden_size)\u001b[39;00m\n\u001b[1;32m---> 27\u001b[0m out \u001b[38;5;241m=\u001b[39m \u001b[38;5;28mself\u001b[39m\u001b[38;5;241m.\u001b[39mfc(out)\n\u001b[0;32m     28\u001b[0m \u001b[38;5;66;03m# out: (N, 1, vocab_size)\u001b[39;00m\n\u001b[0;32m     29\u001b[0m \u001b[38;5;28;01mreturn\u001b[39;00m out, hidden\n",
      "File \u001b[1;32m~\\anaconda3\\Lib\\site-packages\\torch\\nn\\modules\\module.py:1511\u001b[0m, in \u001b[0;36mModule._wrapped_call_impl\u001b[1;34m(self, *args, **kwargs)\u001b[0m\n\u001b[0;32m   1509\u001b[0m     \u001b[38;5;28;01mreturn\u001b[39;00m \u001b[38;5;28mself\u001b[39m\u001b[38;5;241m.\u001b[39m_compiled_call_impl(\u001b[38;5;241m*\u001b[39margs, \u001b[38;5;241m*\u001b[39m\u001b[38;5;241m*\u001b[39mkwargs)  \u001b[38;5;66;03m# type: ignore[misc]\u001b[39;00m\n\u001b[0;32m   1510\u001b[0m \u001b[38;5;28;01melse\u001b[39;00m:\n\u001b[1;32m-> 1511\u001b[0m     \u001b[38;5;28;01mreturn\u001b[39;00m \u001b[38;5;28mself\u001b[39m\u001b[38;5;241m.\u001b[39m_call_impl(\u001b[38;5;241m*\u001b[39margs, \u001b[38;5;241m*\u001b[39m\u001b[38;5;241m*\u001b[39mkwargs)\n",
      "File \u001b[1;32m~\\anaconda3\\Lib\\site-packages\\torch\\nn\\modules\\module.py:1520\u001b[0m, in \u001b[0;36mModule._call_impl\u001b[1;34m(self, *args, **kwargs)\u001b[0m\n\u001b[0;32m   1515\u001b[0m \u001b[38;5;66;03m# If we don't have any hooks, we want to skip the rest of the logic in\u001b[39;00m\n\u001b[0;32m   1516\u001b[0m \u001b[38;5;66;03m# this function, and just call forward.\u001b[39;00m\n\u001b[0;32m   1517\u001b[0m \u001b[38;5;28;01mif\u001b[39;00m \u001b[38;5;129;01mnot\u001b[39;00m (\u001b[38;5;28mself\u001b[39m\u001b[38;5;241m.\u001b[39m_backward_hooks \u001b[38;5;129;01mor\u001b[39;00m \u001b[38;5;28mself\u001b[39m\u001b[38;5;241m.\u001b[39m_backward_pre_hooks \u001b[38;5;129;01mor\u001b[39;00m \u001b[38;5;28mself\u001b[39m\u001b[38;5;241m.\u001b[39m_forward_hooks \u001b[38;5;129;01mor\u001b[39;00m \u001b[38;5;28mself\u001b[39m\u001b[38;5;241m.\u001b[39m_forward_pre_hooks\n\u001b[0;32m   1518\u001b[0m         \u001b[38;5;129;01mor\u001b[39;00m _global_backward_pre_hooks \u001b[38;5;129;01mor\u001b[39;00m _global_backward_hooks\n\u001b[0;32m   1519\u001b[0m         \u001b[38;5;129;01mor\u001b[39;00m _global_forward_hooks \u001b[38;5;129;01mor\u001b[39;00m _global_forward_pre_hooks):\n\u001b[1;32m-> 1520\u001b[0m     \u001b[38;5;28;01mreturn\u001b[39;00m forward_call(\u001b[38;5;241m*\u001b[39margs, \u001b[38;5;241m*\u001b[39m\u001b[38;5;241m*\u001b[39mkwargs)\n\u001b[0;32m   1522\u001b[0m \u001b[38;5;28;01mtry\u001b[39;00m:\n\u001b[0;32m   1523\u001b[0m     result \u001b[38;5;241m=\u001b[39m \u001b[38;5;28;01mNone\u001b[39;00m\n",
      "File \u001b[1;32m~\\anaconda3\\Lib\\site-packages\\torch\\nn\\modules\\linear.py:116\u001b[0m, in \u001b[0;36mLinear.forward\u001b[1;34m(self, input)\u001b[0m\n\u001b[0;32m    115\u001b[0m \u001b[38;5;28;01mdef\u001b[39;00m \u001b[38;5;21mforward\u001b[39m(\u001b[38;5;28mself\u001b[39m, \u001b[38;5;28minput\u001b[39m: Tensor) \u001b[38;5;241m-\u001b[39m\u001b[38;5;241m>\u001b[39m Tensor:\n\u001b[1;32m--> 116\u001b[0m     \u001b[38;5;28;01mreturn\u001b[39;00m F\u001b[38;5;241m.\u001b[39mlinear(\u001b[38;5;28minput\u001b[39m, \u001b[38;5;28mself\u001b[39m\u001b[38;5;241m.\u001b[39mweight, \u001b[38;5;28mself\u001b[39m\u001b[38;5;241m.\u001b[39mbias)\n",
      "\u001b[1;31mKeyboardInterrupt\u001b[0m: "
     ]
    }
   ],
   "source": [
    "from tqdm import tqdm\n",
    "\n",
    "eng_vocab_size = len(eng_word2int)\n",
    "rus_vocab_size = len(rus_word2int)\n",
    "embed_size = 256\n",
    "hidden_size = 512\n",
    "num_layers = 1\n",
    "\n",
    "encoder = Encoder(embedding_size=embed_size, hidden_size=hidden_size, len_vocab=eng_vocab_size)\n",
    "decoder = Decoder(embedding_size=embed_size, hidden_size=hidden_size, len_vocab=rus_vocab_size)\n",
    "\n",
    "optimizer_encoder = torch.optim.AdamW(encoder.parameters())\n",
    "optimizer_decoder = torch.optim.AdamW(encoder.parameters())\n",
    "\n",
    "criterion = nn.CrossEntropyLoss(ignore_index=0)\n",
    "\n",
    "epochs = 2\n",
    "\n",
    "def train_loop(encoder, decoder, \n",
    "              optimizer_encoder, optimizer_decoder,\n",
    "              criterion, epochs,\n",
    "              train_dataloader,\n",
    "              eng_word2int, rus_int2word):\n",
    "    \n",
    "    for epoch in range(epochs):\n",
    "        encoder.train()\n",
    "        decoder.train()\n",
    "        \n",
    "        for i, (input_tensor, target_tensor) in enumerate(tqdm(train_dataloader,\n",
    "                                                               desc=f\"Epoch {epoch}/{epochs}\")):\n",
    "            loss = 0.0\n",
    "            input_tensor, target_tensor = input_tensor.to(device), target_tensor.to(device)\n",
    "            \n",
    "            optimizer_encoder.zero_grad()\n",
    "            optimizer_decoder.zero_grad()\n",
    "            \n",
    "            _, hidden_encoder = encoder(input_tensor)\n",
    "            hidden_decoder = hidden_encoder\n",
    "            \n",
    "            batch_size = input_tensor.size(0)\n",
    "            target_length = target_tensor.size(1)\n",
    "            \n",
    "            decoder_input = torch.full((batch_size, 1),\n",
    "                                       fill_value=eng_word2int[\"<SOS>\"],\n",
    "                                       dtype=torch.long)\n",
    "            \n",
    "            for t in range(target_length):\n",
    "                logits, hidden_decoder = decoder(decoder_input, hidden_decoder)\n",
    "                \n",
    "                logits = logits.view(-1, len(rus_int2word))\n",
    "                \n",
    "                loss += criterion(logits, target_tensor[:, t])\n",
    "                \n",
    "                decoder_input = target_tensor[:, t].view(batch_size, 1)\n",
    "                \n",
    "            loss.backward()\n",
    "            \n",
    "            optimizer_decoder.step()\n",
    "            optimizer_encoder.step()\n",
    "            \n",
    "            if i % 100 == 0:\n",
    "                print(f\"Epoch {epoch}, Batch {i}, Loss: {loss.item() / target_length}\")\n",
    "                \n",
    "\n",
    "train_loop(encoder,\n",
    "              decoder, \n",
    "              optimizer_encoder,\n",
    "              optimizer_decoder,\n",
    "              criterion,\n",
    "              epochs,\n",
    "              translation_dataloader,\n",
    "              eng_word2int,\n",
    "              rus_int2word)\n",
    "        "
   ]
  },
  {
   "cell_type": "code",
   "execution_count": 75,
   "metadata": {},
   "outputs": [
    {
     "data": {
      "text/plain": [
       "'возобновилась жирной конфиденциальная стоимости. дико, мерцают? британцы, обеспеченный чрезмерной обедал. меняется, приглянулась 1939 подвергли написании'"
      ]
     },
     "execution_count": 75,
     "metadata": {},
     "output_type": "execute_result"
    }
   ],
   "source": [
    "text = \"Hello ml\"\n",
    "translate(encoder,\n",
    "              decoder,\n",
    "              eng_word2int,\n",
    "              rus_int2word,\n",
    "              text,\n",
    "              seq_len=15)"
   ]
  },
  {
   "cell_type": "code",
   "execution_count": null,
   "metadata": {},
   "outputs": [],
   "source": []
  },
  {
   "cell_type": "code",
   "execution_count": null,
   "metadata": {},
   "outputs": [],
   "source": []
  }
 ],
 "metadata": {
  "kaggle": {
   "accelerator": "gpu",
   "dataSources": [
    {
     "datasetId": 5101699,
     "sourceId": 8539972,
     "sourceType": "datasetVersion"
    }
   ],
   "dockerImageVersionId": 30699,
   "isGpuEnabled": true,
   "isInternetEnabled": true,
   "language": "python",
   "sourceType": "notebook"
  },
  "kernelspec": {
   "display_name": "Python 3 (ipykernel)",
   "language": "python",
   "name": "python3"
  },
  "language_info": {
   "codemirror_mode": {
    "name": "ipython",
    "version": 3
   },
   "file_extension": ".py",
   "mimetype": "text/x-python",
   "name": "python",
   "nbconvert_exporter": "python",
   "pygments_lexer": "ipython3",
   "version": "3.11.5"
  }
 },
 "nbformat": 4,
 "nbformat_minor": 4
}
